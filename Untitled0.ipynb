{
  "nbformat": 4,
  "nbformat_minor": 0,
  "metadata": {
    "colab": {
      "provenance": [],
      "toc_visible": true,
      "authorship_tag": "ABX9TyMFnAT/4mMmtzCQhqh+0qeB",
      "include_colab_link": true
    },
    "kernelspec": {
      "name": "python3",
      "display_name": "Python 3"
    },
    "language_info": {
      "name": "python"
    }
  },
  "cells": [
    {
      "cell_type": "markdown",
      "metadata": {
        "id": "view-in-github",
        "colab_type": "text"
      },
      "source": [
        "<a href=\"https://colab.research.google.com/github/IolandaSouza/Amigo-Secreto/blob/main/Untitled0.ipynb\" target=\"_parent\"><img src=\"https://colab.research.google.com/assets/colab-badge.svg\" alt=\"Open In Colab\"/></a>"
      ]
    },
    {
      "cell_type": "code",
      "execution_count": 3,
      "metadata": {
        "colab": {
          "base_uri": "https://localhost:8080/"
        },
        "id": "bnQwYWKO_s3w",
        "outputId": "508d423f-bd34-4586-b83b-93287bfe1792"
      },
      "outputs": [
        {
          "output_type": "execute_result",
          "data": {
            "text/plain": [
              "10"
            ]
          },
          "metadata": {},
          "execution_count": 3
        }
      ],
      "source": [
        "10"
      ]
    },
    {
      "cell_type": "code",
      "source": [
        "print('Olá mundo!')"
      ],
      "metadata": {
        "colab": {
          "base_uri": "https://localhost:8080/"
        },
        "id": "U_yDtHgjDH1K",
        "outputId": "f520a055-c1a2-49b5-e664-ad883df0596b"
      },
      "execution_count": 4,
      "outputs": [
        {
          "output_type": "stream",
          "name": "stdout",
          "text": [
            "Olá mundo!\n"
          ]
        }
      ]
    },
    {
      "cell_type": "code",
      "source": [
        "print(10)"
      ],
      "metadata": {
        "colab": {
          "base_uri": "https://localhost:8080/"
        },
        "id": "nnTdnfKFDh-f",
        "outputId": "6b7bea2d-c57f-4dca-a285-f29ecad593f2"
      },
      "execution_count": 5,
      "outputs": [
        {
          "output_type": "stream",
          "name": "stdout",
          "text": [
            "10\n"
          ]
        }
      ]
    },
    {
      "cell_type": "code",
      "source": [
        "print('Iolanda')\n",
        "print('Souza')"
      ],
      "metadata": {
        "colab": {
          "base_uri": "https://localhost:8080/"
        },
        "id": "VU57z70MDp5b",
        "outputId": "2dcfe1e2-a934-4ded-8a9d-9bd952a93465"
      },
      "execution_count": 7,
      "outputs": [
        {
          "output_type": "stream",
          "name": "stdout",
          "text": [
            "Iolanda\n",
            "Souza\n"
          ]
        }
      ]
    },
    {
      "cell_type": "code",
      "source": [
        "print('I')\n",
        "print('O')\n",
        "print('L')\n",
        "print('A')\n",
        "print('N')\n",
        "print('D')\n",
        "print('A')"
      ],
      "metadata": {
        "colab": {
          "base_uri": "https://localhost:8080/"
        },
        "id": "y8sv3pHfEq18",
        "outputId": "98cdb05b-e7a3-49e5-be4c-7ec033e7131c"
      },
      "execution_count": 8,
      "outputs": [
        {
          "output_type": "stream",
          "name": "stdout",
          "text": [
            "I\n",
            "O\n",
            "L\n",
            "A\n",
            "N\n",
            "D\n",
            "A\n"
          ]
        }
      ]
    },
    {
      "cell_type": "code",
      "source": [
        "print('28 maio 2025')"
      ],
      "metadata": {
        "colab": {
          "base_uri": "https://localhost:8080/"
        },
        "id": "hUzB9xiTFaGM",
        "outputId": "f938b947-8cfe-40e3-f895-888c11687e98"
      },
      "execution_count": 10,
      "outputs": [
        {
          "output_type": "stream",
          "name": "stdout",
          "text": [
            "28 maio 2025\n"
          ]
        }
      ]
    },
    {
      "cell_type": "code",
      "source": [
        "print(2025)"
      ],
      "metadata": {
        "colab": {
          "base_uri": "https://localhost:8080/"
        },
        "id": "T5bA4y7dFv7Y",
        "outputId": "f4a0a5c2-5151-443b-e402-e8d3cefc01f9"
      },
      "execution_count": 11,
      "outputs": [
        {
          "output_type": "stream",
          "name": "stdout",
          "text": [
            "2025\n"
          ]
        }
      ]
    },
    {
      "cell_type": "code",
      "source": [
        "print(10) # para colocar comentarios, basta colocar # apos os codigos, e o mesmo sera ingnorado."
      ],
      "metadata": {
        "colab": {
          "base_uri": "https://localhost:8080/"
        },
        "id": "e0hYy1jJF-gE",
        "outputId": "ec642d99-d93f-45f4-a36d-457e1720add5"
      },
      "execution_count": 12,
      "outputs": [
        {
          "output_type": "stream",
          "name": "stdout",
          "text": [
            "10\n"
          ]
        }
      ]
    },
    {
      "cell_type": "code",
      "source": [
        "# Criar variaveis"
      ],
      "metadata": {
        "id": "kHGlFuM2H3Wj"
      },
      "execution_count": null,
      "outputs": []
    },
    {
      "cell_type": "code",
      "source": [
        "idade = 34"
      ],
      "metadata": {
        "id": "_KNRY6jKJhvJ"
      },
      "execution_count": 20,
      "outputs": []
    },
    {
      "cell_type": "code",
      "source": [
        "print(idade)"
      ],
      "metadata": {
        "colab": {
          "base_uri": "https://localhost:8080/"
        },
        "id": "UUfpOSXWK2C1",
        "outputId": "eee3e0ff-6d31-42a1-a9cd-f7e02e52431f"
      },
      "execution_count": 21,
      "outputs": [
        {
          "output_type": "stream",
          "name": "stdout",
          "text": [
            "34\n"
          ]
        }
      ]
    },
    {
      "cell_type": "code",
      "source": [
        "idade = 35\n",
        "print(idade)"
      ],
      "metadata": {
        "colab": {
          "base_uri": "https://localhost:8080/"
        },
        "id": "mScry6QjK4zP",
        "outputId": "4c6ce3b5-c497-4a16-9d98-edb86e9c8d51"
      },
      "execution_count": 22,
      "outputs": [
        {
          "output_type": "stream",
          "name": "stdout",
          "text": [
            "35\n"
          ]
        }
      ]
    },
    {
      "cell_type": "code",
      "source": [
        "idade = 36\n",
        "idade"
      ],
      "metadata": {
        "colab": {
          "base_uri": "https://localhost:8080/"
        },
        "id": "Di_r5TzaLETI",
        "outputId": "2c1b5f42-6261-42d9-df95-fbcb5a46c8cf"
      },
      "execution_count": 23,
      "outputs": [
        {
          "output_type": "execute_result",
          "data": {
            "text/plain": [
              "36"
            ]
          },
          "metadata": {},
          "execution_count": 23
        }
      ]
    },
    {
      "cell_type": "code",
      "source": [
        "nome = 'Ludmila'\n",
        "nome"
      ],
      "metadata": {
        "colab": {
          "base_uri": "https://localhost:8080/",
          "height": 35
        },
        "id": "133myKTZLMHw",
        "outputId": "d01362e0-c147-4075-8d28-7a465b153499"
      },
      "execution_count": 24,
      "outputs": [
        {
          "output_type": "execute_result",
          "data": {
            "text/plain": [
              "'Ludmila'"
            ],
            "application/vnd.google.colaboratory.intrinsic+json": {
              "type": "string"
            }
          },
          "metadata": {},
          "execution_count": 24
        }
      ]
    },
    {
      "cell_type": "code",
      "source": [],
      "metadata": {
        "id": "mpe2r7YBLnMT"
      },
      "execution_count": null,
      "outputs": []
    }
  ]
}